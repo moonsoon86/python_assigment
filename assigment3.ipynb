{
 "cells": [
  {
   "cell_type": "code",
   "execution_count": null,
   "metadata": {},
   "outputs": [],
   "source": [
    "number=input('please, write a number.')\n",
    "x=len(number)\n",
    "a=0\n",
    "z=0\n",
    "if number.isdecimal():\n",
    "    while a<len(number):\n",
    "        z=z+(int(number[a])**x)\n",
    "        a+=1\n",
    "    if z==int(number):\n",
    "        print(number, 'is an Armstrong number')\n",
    "    else:\n",
    "        print(number, 'is not an Armstrong number' )\n",
    "else:  \n",
    "    print('It is an invalid entry. Don\\'t use non-numeric, float, or negative values!')   "
   ]
  }
 ],
 "metadata": {
  "language_info": {
   "codemirror_mode": {
    "name": "ipython",
    "version": 3
   },
   "file_extension": ".py",
   "mimetype": "text/x-python",
   "name": "python",
   "nbconvert_exporter": "python",
   "pygments_lexer": "ipython3",
   "version": 3
  },
  "orig_nbformat": 2
 },
 "nbformat": 4,
 "nbformat_minor": 2
}