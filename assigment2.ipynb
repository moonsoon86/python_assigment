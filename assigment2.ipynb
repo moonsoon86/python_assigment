{
 "cells": [
  {
   "cell_type": "code",
   "execution_count": null,
   "metadata": {},
   "outputs": [],
   "source": [
    "age=input('Are you a cigarette addict older than 75 years old?write yes or no')\n",
    "chronic=input('Do you have a severe chronic disease?write yes or no')\n",
    "immune=input('Is your immune system too weak?write yes or no')\n",
    "\n",
    "for 'yes' in age: \n",
    "    if False:\n",
    "        print(\"You are not in risky group\")\n",
    "    else:\n",
    "        print(\"You are in risky group\")"
   ]
  }
 ],
 "metadata": {
  "language_info": {
   "codemirror_mode": {
    "name": "ipython",
    "version": 3
   },
   "file_extension": ".py",
   "mimetype": "text/x-python",
   "name": "python",
   "nbconvert_exporter": "python",
   "pygments_lexer": "ipython3",
   "version": 3
  },
  "orig_nbformat": 2
 },
 "nbformat": 4,
 "nbformat_minor": 2
}