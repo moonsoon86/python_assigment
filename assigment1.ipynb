{
 "cells": [
  {
   "cell_type": "code",
   "execution_count": null,
   "metadata": {},
   "outputs": [],
   "source": [
    "name='jane'\n",
    "password='tree'\n",
    "given_name=input('please, enter your name')\n",
    "if given_name==name:\n",
    "    print(\"Hello, jane, The password is :\", password)\n",
    "else:\n",
    "    print(\"Hello, jane! See you later.\")"
   ]
  }
 ],
 "metadata": {
  "language_info": {
   "codemirror_mode": {
    "name": "ipython",
    "version": 3
   },
   "file_extension": ".py",
   "mimetype": "text/x-python",
   "name": "python",
   "nbconvert_exporter": "python",
   "pygments_lexer": "ipython3",
   "version": 3
  },
  "orig_nbformat": 2
 },
 "nbformat": 4,
 "nbformat_minor": 2
}